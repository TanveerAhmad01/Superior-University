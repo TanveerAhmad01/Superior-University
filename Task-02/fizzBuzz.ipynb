{
 "cells": [
  {
   "cell_type": "code",
   "execution_count": 5,
   "metadata": {},
   "outputs": [
    {
     "name": "stdout",
     "output_type": "stream",
     "text": [
      "1\n",
      "2\n",
      "Fizz\n",
      "4\n",
      "Buzz\n",
      "Fizz\n",
      "7\n",
      "8\n",
      "Fizz\n",
      "Buzz\n"
     ]
    }
   ],
   "source": [
    "class FizzBuzz:\n",
    "    def __init__(self, limit):\n",
    "        self.limit = limit\n",
    "\n",
    "    def loop(self):\n",
    "        for i in range(1, self.limit + 1):\n",
    "            print(self.fizz_buzz(i))\n",
    "\n",
    "    def fizz_buzz(self, number):\n",
    "        if number % 3 == 0 and number % 5 == 0:\n",
    "            return \"Fizz Buzz\"\n",
    "        elif number % 3 == 0:\n",
    "            return \"Fizz\"\n",
    "        elif number % 5 == 0:\n",
    "            return \"Buzz\"\n",
    "        else:\n",
    "            return str(number)\n",
    "\n",
    "inp = int(input(\"Enter Nubr\"))\n",
    "game = FizzBuzz(inp)\n",
    "game.loop()\n"
   ]
  },
  {
   "cell_type": "code",
   "execution_count": null,
   "metadata": {},
   "outputs": [],
   "source": []
  }
 ],
 "metadata": {
  "kernelspec": {
   "display_name": "Python 3",
   "language": "python",
   "name": "python3"
  },
  "language_info": {
   "codemirror_mode": {
    "name": "ipython",
    "version": 3
   },
   "file_extension": ".py",
   "mimetype": "text/x-python",
   "name": "python",
   "nbconvert_exporter": "python",
   "pygments_lexer": "ipython3",
   "version": "3.12.3"
  }
 },
 "nbformat": 4,
 "nbformat_minor": 2
}
