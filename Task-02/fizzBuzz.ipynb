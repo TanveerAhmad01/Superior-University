{
 "cells": [
  {
   "cell_type": "code",
   "execution_count": 5,
   "metadata": {},
   "outputs": [
    {
     "name": "stdout",
     "output_type": "stream",
     "text": [
      "1\n",
      "2\n",
      "Fizz\n",
      "4\n",
      "Buzz\n",
      "Fizz\n",
      "7\n",
      "8\n",
      "Fizz\n",
      "Buzz\n"
     ]
    }
   ],
   "source": [
    "import random\n",
    "\n",
    "def fizz_buzz_game():\n",
    "    print(\"Welcome to the Fizz Buzz game!\")\n",
    "    rounds = 5  \n",
    "    for _ in range(rounds):\n",
    "        number = random.randint(1, 100)  \n",
    "        print(f\"\\nNumber: {number}\")\n",
    "        \n",
    "        # Determine the correct answer\n",
    "        if number % 3 == 0 and number % 5 == 0:\n",
    "            correct_answer = \"Fizz Buzz\"\n",
    "        elif number % 3 == 0:\n",
    "            correct_answer = \"Fizz\"\n",
    "        elif number % 5 == 0:\n",
    "            correct_answer = \"Buzz\"\n",
    "        else:\n",
    "            correct_answer = str(number)\n",
    "\n",
    "        # Get user input\n",
    "        user_answer = input(\"Your answer (Fizz/Buzz/number): \").strip()\n",
    "        \n",
    "        # Check the user's answer\n",
    "        if user_answer == correct_answer:\n",
    "            print(\"Correct!\")\n",
    "        else:\n",
    "            print(f\"Incorrect! The correct answer was: {correct_answer}\")\n",
    "\n",
    "    print(\"\\nGame over! Thanks for playing.\")\n",
    "\n",
    "\n",
    "fizz_buzz_game()\n"
   ]
  },
  {
   "cell_type": "code",
   "execution_count": null,
   "metadata": {},
   "outputs": [],
   "source": []
  }
 ],
 "metadata": {
  "kernelspec": {
   "display_name": "Python 3",
   "language": "python",
   "name": "python3"
  },
  "language_info": {
   "codemirror_mode": {
    "name": "ipython",
    "version": 3
   },
   "file_extension": ".py",
   "mimetype": "text/x-python",
   "name": "python",
   "nbconvert_exporter": "python",
   "pygments_lexer": "ipython3",
   "version": "3.12.3"
  }
 },
 "nbformat": 4,
 "nbformat_minor": 2
}
